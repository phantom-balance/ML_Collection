{
 "cells": [
  {
   "cell_type": "code",
   "execution_count": 1,
   "id": "b6d75714",
   "metadata": {},
   "outputs": [],
   "source": [
    "# importing dependencies\n",
    "import torch\n",
    "import torch.nn as nn\n",
    "import torch.optim as optim\n",
    "from torch.utils.data import DataLoader\n",
    "import torchvision.datasets as datasets\n",
    "import torch.nn.functional as F\n",
    "\n",
    "# import torchvision.transforms as transforms"
   ]
  },
  {
   "cell_type": "code",
   "execution_count": 2,
   "id": "9df3d5c0",
   "metadata": {},
   "outputs": [],
   "source": [
    "# importing the dataset and preparing the dataloader for it\n",
    "train_dataset=datasets.MNIST(root='dataset/',train=True,transform=transforms.ToTensor(),download=True)\n",
    "test_dataset=datasets.MNIST(root='dataset/',train=False,transform=transforms.ToTensor(),download=True)"
   ]
  },
  {
   "cell_type": "code",
   "execution_count": 3,
   "id": "b13777bf",
   "metadata": {},
   "outputs": [
    {
     "name": "stdout",
     "output_type": "stream",
     "text": [
      "torch.Size([1, 28, 28])\n",
      "5\n"
     ]
    }
   ],
   "source": [
    "# Now lets see what's the shape of the data we will work in\n",
    "\n",
    "# print(train_dataset[0]) # this shows that the data is structured in a tuple where, 1st element is the tensor representing the number, and the 2nd element of the tuple is it's label\n",
    "number_tensor, label = train_dataset[0]\n",
    "print(number_tensor.shape) #(1, 28, 28)\n",
    "print(label)\n",
    "# for our network we will have 28*28*1=784 as input dimension, and the output would be 10 to representing 10 different number from 0 to 9"
   ]
  },
  {
   "cell_type": "code",
   "execution_count": 4,
   "id": "cd255168",
   "metadata": {},
   "outputs": [
    {
     "name": "stdout",
     "output_type": "stream",
     "text": [
      "actual label: 5\n"
     ]
    },
    {
     "data": {
      "image/png": "[encoded data removed]",
      "text/plain": [
       "<Figure size 640x480 with 1 Axes>"
      ]
     },
     "metadata": {},
     "output_type": "display_data"
    }
   ],
   "source": [
    "import numpy as np\n",
    "import pandas as pd\n",
    "import matplotlib.pyplot as plt\n",
    "\n",
    "dat = number_tensor.cpu().detach().numpy().reshape(28,28) # the detach stuff is necessary if the data is saved in GPU memory\n",
    "plt.imshow(dat)\n",
    "print(\"actual label:\",label)"
   ]
  },
  {
   "cell_type": "code",
   "execution_count": 5,
   "id": "59024bf3",
   "metadata": {},
   "outputs": [],
   "source": [
    "# creating the parameters for the network after we realize our task and the structure of the input data and output data\n",
    "input_size=784\n",
    "num_classes=10\n",
    "\n",
    "# setting the hyperparameters for the network\n",
    "learning_rate=0.001\n",
    "batch_size=32\n",
    "num_epochs=10\n",
    "\n",
    "# parameters=fixed size\n",
    "# hyperparameters=tunable size"
   ]
  },
  {
   "cell_type": "code",
   "execution_count": 6,
   "id": "794d9e5e",
   "metadata": {},
   "outputs": [],
   "source": [
    "train_loader=DataLoader(dataset=train_dataset,batch_size=batch_size,shuffle=True)\n",
    "test_loader=DataLoader(dataset=test_dataset,batch_size=batch_size,shuffle=True)"
   ]
  },
  {
   "cell_type": "code",
   "execution_count": 7,
   "id": "03efbf2c",
   "metadata": {},
   "outputs": [],
   "source": [
    "# setting device\n",
    "device=torch.device('cuda' if torch.cuda.is_available() else 'cpu')\n",
    "# Use GPU when possible, to save time."
   ]
  },
  {
   "cell_type": "code",
   "execution_count": 9,
   "id": "b67234e2",
   "metadata": {},
   "outputs": [],
   "source": [
    "# describing the network architecture and the flow of data from input to output\n",
    "class NN(nn.Module):\n",
    "  def __init__(self,input_size,num_classes):\n",
    "    super(NN,self).__init__()\n",
    "    self.fc1=nn.Linear(input_size,100)\n",
    "    self.fc2=nn.Linear(100,50)\n",
    "    self.fc3=nn.Linear(50,num_classes)\n",
    "    \n",
    "\n",
    "  def forward(self,x):\n",
    "    x=F.relu(self.fc1(x))\n",
    "    x=F.relu(self.fc2(x))\n",
    "    x=self.fc3(x)\n",
    "    return x\n",
    "\n",
    "# initializing the model\n",
    "model=NN(input_size,num_classes=num_classes).to(device)\n",
    "\n",
    "# initializing the network and setting the loss_func and the optimizer\n",
    "# Need to learn about backpropagation to understand this (a little math heavy)\n",
    "criterion=nn.CrossEntropyLoss()\n",
    "optimizer=optim.SGD(model.parameters(),lr=learning_rate)"
   ]
  },
  {
   "cell_type": "code",
   "execution_count": 13,
   "id": "00b752ce",
   "metadata": {},
   "outputs": [],
   "source": [
    "# creating fuction that saves the models parameter\n",
    "def save_checkpoint(state, filename=f\"model/nn_mnist.pth.tar\"):\n",
    "    print(\"__Saving Checkpoint__\")\n",
    "    torch.save(state, filename)"
   ]
  },
  {
   "cell_type": "code",
   "execution_count": 15,
   "id": "6096f97c",
   "metadata": {},
   "outputs": [
    {
     "name": "stdout",
     "output_type": "stream",
     "text": [
      "__Saving Checkpoint__\n",
      "__Saving Checkpoint__\n"
     ]
    }
   ],
   "source": [
    "# training the network\n",
    "for epoch in range(num_epochs):\n",
    "  for batch_idx,(data,targets) in enumerate(train_loader):\n",
    "    data=data.to(device=device)\n",
    "    targets=targets.to(device=device)\n",
    "\n",
    "    data=data.reshape(data.shape[0],-1)\n",
    "\n",
    "    scores=model(data)\n",
    "    loss=criterion(scores,targets)\n",
    "\n",
    "    optimizer.zero_grad()\n",
    "    loss.backward()\n",
    "\n",
    "    optimizer.step()\n",
    "    \n",
    "    # saving model after 5 epochs worth of training\n",
    "  if epoch%5==0:\n",
    "        checkpoint={'state_dict': model.state_dict(),\n",
    "                    'optimizer': optimizer.state_dict()\n",
    "                    }\n",
    "        save_checkpoint(checkpoint)"
   ]
  },
  {
   "cell_type": "code",
   "execution_count": 16,
   "id": "bfdfad31",
   "metadata": {},
   "outputs": [
    {
     "name": "stdout",
     "output_type": "stream",
     "text": [
      "checking accuracy on training data\n",
      "54663/60000 Correct,with accuracy 91.10500\n",
      "checking accuracy on test data\n",
      "9137/10000 Correct,with accuracy 91.37000\n"
     ]
    }
   ],
   "source": [
    "# checking the accuracy of the network\n",
    "def check_accuracy(loader,model):\n",
    "  if loader.dataset.train:\n",
    "    print(\"checking accuracy on training data\")\n",
    "  else:\n",
    "    print(\"checking accuracy on test data\")\n",
    "    \n",
    "  num_correct=0\n",
    "  num_samples=0\n",
    "    \n",
    "  model.eval()\n",
    "  with torch.no_grad():\n",
    "    for x,y in loader:\n",
    "      x=x.to(device=device)\n",
    "      y=y.to(device=device)\n",
    "      x=x.reshape(x.shape[0],-1)\n",
    "\n",
    "      scores=model(x)\n",
    "      _, predictions=scores.max(1)\n",
    "      \n",
    "      num_correct+=(predictions==y).sum()\n",
    "      num_samples+=predictions.size(0)\n",
    "    print(f'{num_correct}/{num_samples} Correct,with accuracy {float(num_correct)/float(num_samples)*100:.5f}')\n",
    "  model.train()\n",
    "\n",
    "# checking overall accuracy of the model\n",
    "check_accuracy(train_loader,model)\n",
    "check_accuracy(test_loader,model)\n",
    "# I used colab with GPU inabled to train this quickly"
   ]
  },
  {
   "cell_type": "code",
   "execution_count": 18,
   "id": "f0eefb7a",
   "metadata": {},
   "outputs": [],
   "source": [
    "# After we trained the network lets see how good or bad it performs with one example\n",
    "i = 42\n",
    "data, label = train_dataset[i]"
   ]
  },
  {
   "cell_type": "code",
   "execution_count": 19,
   "id": "9120162e",
   "metadata": {},
   "outputs": [
    {
     "name": "stdout",
     "output_type": "stream",
     "text": [
      "actual label: 7\n"
     ]
    },
    {
     "data": {
      "image/png": "[encoded data removed]",
      "text/plain": [
       "<Figure size 640x480 with 1 Axes>"
      ]
     },
     "metadata": {},
     "output_type": "display_data"
    }
   ],
   "source": [
    "import numpy as np\n",
    "import pandas as pd\n",
    "import matplotlib.pyplot as plt\n",
    "\n",
    "dat = data.cpu().detach().numpy().reshape(28,28)\n",
    "plt.imshow(dat)\n",
    "print(\"actual label:\",label)"
   ]
  },
  {
   "cell_type": "code",
   "execution_count": 21,
   "id": "8baddc03",
   "metadata": {},
   "outputs": [
    {
     "name": "stdout",
     "output_type": "stream",
     "text": [
      "predicted: 7\n",
      "actual: 7\n"
     ]
    }
   ],
   "source": [
    "# Lets see what our model predicts the above number as\n",
    "model.eval()\n",
    "with torch.no_grad():\n",
    "  data=data.to(device)\n",
    "  scores=model(data.reshape(-1))\n",
    "#   print(scores)\n",
    "#   print(scores.max())\n",
    "  _, prediction = scores.max(0)\n",
    "print(\"predicted:\",prediction.item())\n",
    "print(\"actual:\",label)"
   ]
  }
 ],
 "metadata": {
  "kernelspec": {
   "display_name": "Python 3 (ipykernel)",
   "language": "python",
   "name": "python3"
  },
  "language_info": {
   "codemirror_mode": {
    "name": "ipython",
    "version": 3
   },
   "file_extension": ".py",
   "mimetype": "text/x-python",
   "name": "python",
   "nbconvert_exporter": "python",
   "pygments_lexer": "ipython3",
   "version": "3.9.7"
  }
 },
 "nbformat": 4,
 "nbformat_minor": 5
}
