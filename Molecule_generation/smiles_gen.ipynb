{
  "nbformat": 4,
  "nbformat_minor": 0,
  "metadata": {
    "colab": {
      "provenance": [],
      "authorship_tag": "ABX9TyMhyCERYRKeuVc1jrmEWSCy",
      "include_colab_link": true
    },
    "kernelspec": {
      "name": "python3",
      "display_name": "Python 3"
    },
    "language_info": {
      "name": "python"
    },
    "accelerator": "GPU",
    "gpuClass": "standard"
  },
  "cells": [
    {
      "cell_type": "markdown",
      "metadata": {
        "id": "view-in-github",
        "colab_type": "text"
      },
      "source": [
        "<a href=\"https://colab.research.google.com/github/phantom-balance/ML_collection/blob/master/Molecule_generation/smiles_gen.ipynb\" target=\"_parent\"><img src=\"https://colab.research.google.com/assets/colab-badge.svg\" alt=\"Open In Colab\"/></a>"
      ]
    },
    {
      "cell_type": "code",
      "execution_count": 1,
      "metadata": {
        "colab": {
          "base_uri": "https://localhost:8080/"
        },
        "id": "1XdtwiIgj3Mk",
        "outputId": "ac5650d6-a95e-4511-8e1c-2bbef372a114"
      },
      "outputs": [
        {
          "output_type": "stream",
          "name": "stdout",
          "text": [
            "Cloning into 'ML_collection'...\n",
            "remote: Enumerating objects: 186, done.\u001b[K\n",
            "remote: Counting objects: 100% (50/50), done.\u001b[K\n",
            "remote: Compressing objects: 100% (36/36), done.\u001b[K\n",
            "remote: Total 186 (delta 11), reused 48 (delta 11), pack-reused 136\u001b[K\n",
            "Receiving objects: 100% (186/186), 28.68 MiB | 20.87 MiB/s, done.\n",
            "Resolving deltas: 100% (48/48), done.\n"
          ]
        }
      ],
      "source": [
        "!git clone https://github.com/phantom-balance/ML_collection.git"
      ]
    },
    {
      "cell_type": "code",
      "source": [
        "%cd ML_collection\n",
        "%ls"
      ],
      "metadata": {
        "colab": {
          "base_uri": "https://localhost:8080/"
        },
        "id": "Bxk9SWuuj8RR",
        "outputId": "bc16eb65-1846-45d3-b544-f79ac6d7f77d"
      },
      "execution_count": 2,
      "outputs": [
        {
          "output_type": "stream",
          "name": "stdout",
          "text": [
            "/content/ML_collection\n",
            "\u001b[0m\u001b[01;34mbeginner\u001b[0m/        \u001b[01;34mIMG_CAP\u001b[0m/              \u001b[01;34mNeural_style_transfer\u001b[0m/  \u001b[01;34mText_generator\u001b[0m/\n",
            "environment.yml  \u001b[01;34mMolecule_generation\u001b[0m/  README.md\n"
          ]
        }
      ]
    },
    {
      "cell_type": "code",
      "source": [
        "%cd Molecule_generation\n",
        "%ls"
      ],
      "metadata": {
        "colab": {
          "base_uri": "https://localhost:8080/"
        },
        "id": "91CW7BF-kGjn",
        "outputId": "287e7f63-993f-4a94-da33-748739d559ae"
      },
      "execution_count": 3,
      "outputs": [
        {
          "output_type": "stream",
          "name": "stdout",
          "text": [
            "/content/ML_collection/Molecule_generation\n",
            "mol_smiles.txt  \u001b[0m\u001b[01;34mruns\u001b[0m/  smiles_generator.py\n"
          ]
        }
      ]
    },
    {
      "cell_type": "code",
      "source": [
        "!pip install rdkit-pypi\n",
        "!pip install unidecode"
      ],
      "metadata": {
        "colab": {
          "base_uri": "https://localhost:8080/"
        },
        "id": "OQqPUfO_kdTh",
        "outputId": "7fc3afee-d5c7-4db5-b57f-86909da22eed"
      },
      "execution_count": 5,
      "outputs": [
        {
          "output_type": "stream",
          "name": "stdout",
          "text": [
            "Looking in indexes: https://pypi.org/simple, https://us-python.pkg.dev/colab-wheels/public/simple/\n",
            "Collecting unidecode\n",
            "  Downloading Unidecode-1.3.6-py3-none-any.whl (235 kB)\n",
            "\u001b[2K     \u001b[90m━━━━━━━━━━━━━━━━━━━━━━━━━━━━━━━━━━━━━━\u001b[0m \u001b[32m235.9/235.9 KB\u001b[0m \u001b[31m16.6 MB/s\u001b[0m eta \u001b[36m0:00:00\u001b[0m\n",
            "\u001b[?25hInstalling collected packages: unidecode\n",
            "Successfully installed unidecode-1.3.6\n"
          ]
        }
      ]
    },
    {
      "cell_type": "code",
      "source": [
        "from IPython.display import Image\n",
        "import rdkit\n",
        "from rdkit import Chem\n",
        "from rdkit.Chem import Draw"
      ],
      "metadata": {
        "id": "zHZdUdFLn8Xu"
      },
      "execution_count": 14,
      "outputs": []
    },
    {
      "cell_type": "code",
      "source": [
        "!python smiles_generator.py"
      ],
      "metadata": {
        "colab": {
          "base_uri": "https://localhost:8080/"
        },
        "id": "BHwizqCCkMhL",
        "outputId": "1ed99518-ba10-4fe5-a4a3-22067cd80e80"
      },
      "execution_count": 23,
      "outputs": [
        {
          "output_type": "stream",
          "name": "stdout",
          "text": [
            "=> Starring Training\n",
            "Loss: 1.1809106708536894\n",
            "CN)OC)C)OC\n",
            "C(OC)OC\n",
            "COc1ccc1OC\n",
            "CCNC(C)CC(C)C(OC2)CC(=C1OC)CC(O\n",
            "CC1)CN\n",
            "CCc1cc(OC)c(C)c(OC)c(cc1OC)CCN\n",
            "C\n",
            "Loss: 0.6281498911567133\n",
            "COc1cc2OCOc1cc2SCCCCc1ccc1)OCO2\n",
            "C1=CC=C(OCOC1=CC(=C(C=C(OC)C2=CC(=C(C=C1)CO(c1c(cr)OCCCC)c(cc1CCN)OC\n",
            "\n",
            "Traceback (most recent call last):\n",
            "  File \"smiles_generator.py\", line 130, in <module>\n",
            "    gennames.train()\n",
            "  File \"smiles_generator.py\", line 106, in train\n",
            "    inp, target = self.get_random_batch()\n",
            "  File \"smiles_generator.py\", line 70, in get_random_batch\n",
            "    text_input[i,:] = self.char_tensor(text_str[:-1])\n",
            "RuntimeError: The expanded size of the tensor (371) must match the existing size (370) at non-singleton dimension 0.  Target sizes: [371].  Tensor sizes: [370]\n"
          ]
        }
      ]
    },
    {
      "cell_type": "code",
      "source": [
        "nam='CCSc1c(cc(cc1OC)CCN)OC'\n",
        "mol = Chem.MolFromSmiles(nam)\n",
        "Draw.MolToFile(mol,'mol.png')\n",
        "Image('mol.png')"
      ],
      "metadata": {
        "colab": {
          "base_uri": "https://localhost:8080/",
          "height": 317
        },
        "id": "BJLk95KIoL2U",
        "outputId": "898f5d22-7cf1-420f-e965-df5fb231ed60"
      },
      "execution_count": 24,
      "outputs": [
        {
          "output_type": "execute_result",
          "data": {
            "image/png": "[encoded data removed]",
            "text/plain": [
              "<IPython.core.display.Image object>"
            ]
          },
          "metadata": {},
          "execution_count": 24
        }
      ]
    }
  ]
}